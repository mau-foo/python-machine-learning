{
    "cells": [
        {
            "cell_type": "markdown",
            "metadata": {
                "button": false,
                "new_sheet": false,
                "run_control": {
                    "read_only": false
                }
            },
            "source": "# ML Classification with Python"
        },
        {
            "cell_type": "markdown",
            "metadata": {
                "button": false,
                "new_sheet": false,
                "run_control": {
                    "read_only": false
                }
            },
            "source": "In this notebook we try to practice all the classification algorithms that we learned in this course.\n\nWe load a dataset using Pandas library, and apply the following algorithms, and find the best one for this specific dataset by accuracy evaluation methods.\n\nLets load required libraries:"
        },
        {
            "cell_type": "code",
            "execution_count": 1,
            "metadata": {
                "button": false,
                "new_sheet": false,
                "run_control": {
                    "read_only": false
                }
            },
            "outputs": [],
            "source": "%matplotlib inline\nimport matplotlib.pyplot as plt\nimport pandas as pd\nimport numpy as np\nimport seaborn as sns"
        },
        {
            "cell_type": "markdown",
            "metadata": {
                "button": false,
                "new_sheet": false,
                "run_control": {
                    "read_only": false
                }
            },
            "source": "## About dataset"
        },
        {
            "cell_type": "markdown",
            "metadata": {
                "button": false,
                "new_sheet": false,
                "run_control": {
                    "read_only": false
                }
            },
            "source": "This dataset is about past loans. The __Loan_train.csv__ data set includes details of 346 customers whose loan are already paid off or defaulted. It includes following fields:\n\n| Field          | Description                                                                           |\n|----------------|---------------------------------------------------------------------------------------|\n| Loan_status    | Whether a loan is paid off on in collection                                           |\n| Principal      | Basic principal loan amount at the                                                    |\n| Terms          | Origination terms which can be weekly (7 days), biweekly, and monthly payoff schedule |\n| Effective_date | When the loan got originated and took effects                                         |\n| Due_date       | Since it\u2019s one-time payoff schedule, each loan has one single due date                |\n| Age            | Age of applicant                                                                      |\n| Education      | Education of applicant                                                                |\n| Gender         | The gender of applicant                                                               |"
        },
        {
            "cell_type": "markdown",
            "metadata": {
                "button": false,
                "new_sheet": false,
                "run_control": {
                    "read_only": false
                }
            },
            "source": "Download dataset from IBM Cognitive Class Object Storage"
        },
        {
            "cell_type": "code",
            "execution_count": 2,
            "metadata": {
                "button": false,
                "new_sheet": false,
                "run_control": {
                    "read_only": false
                }
            },
            "outputs": [
                {
                    "name": "stdout",
                    "output_type": "stream",
                    "text": "--2020-05-20 22:20:32--  https://s3-api.us-geo.objectstorage.softlayer.net/cf-courses-data/CognitiveClass/ML0101ENv3/labs/loan_train.csv\nResolving s3-api.us-geo.objectstorage.softlayer.net (s3-api.us-geo.objectstorage.softlayer.net)... 67.228.254.196\nConnecting to s3-api.us-geo.objectstorage.softlayer.net (s3-api.us-geo.objectstorage.softlayer.net)|67.228.254.196|:443... connected.\nHTTP request sent, awaiting response... 200 OK\nLength: 23101 (23K) [text/csv]\nSaving to: \u2018loan_train.csv\u2019\n\n100%[======================================>] 23,101      --.-K/s   in 0.002s  \n\n2020-05-20 22:20:32 (14.5 MB/s) - \u2018loan_train.csv\u2019 saved [23101/23101]\n\n"
                }
            ],
            "source": "!wget -O loan_train.csv https://s3-api.us-geo.objectstorage.softlayer.net/cf-courses-data/CognitiveClass/ML0101ENv3/labs/loan_train.csv"
        },
        {
            "cell_type": "markdown",
            "metadata": {
                "button": false,
                "new_sheet": false,
                "run_control": {
                    "read_only": false
                }
            },
            "source": "## Load Data From CSV File"
        },
        {
            "cell_type": "code",
            "execution_count": 3,
            "metadata": {
                "button": false,
                "new_sheet": false,
                "run_control": {
                    "read_only": false
                }
            },
            "outputs": [
                {
                    "data": {
                        "text/html": "<div>\n<style scoped>\n    .dataframe tbody tr th:only-of-type {\n        vertical-align: middle;\n    }\n\n    .dataframe tbody tr th {\n        vertical-align: top;\n    }\n\n    .dataframe thead th {\n        text-align: right;\n    }\n</style>\n<table border=\"1\" class=\"dataframe\">\n  <thead>\n    <tr style=\"text-align: right;\">\n      <th></th>\n      <th>Loan_Status</th>\n      <th>Principal</th>\n      <th>Terms</th>\n      <th>Effective_Date</th>\n      <th>Due_Date</th>\n      <th>Age</th>\n      <th>Education</th>\n      <th>Gender</th>\n    </tr>\n  </thead>\n  <tbody>\n    <tr>\n      <th>0</th>\n      <td>PAIDOFF</td>\n      <td>1000</td>\n      <td>30</td>\n      <td>2016-09-08</td>\n      <td>2016-10-07</td>\n      <td>45</td>\n      <td>High School or Below</td>\n      <td>male</td>\n    </tr>\n    <tr>\n      <th>1</th>\n      <td>PAIDOFF</td>\n      <td>1000</td>\n      <td>30</td>\n      <td>2016-09-08</td>\n      <td>2016-10-07</td>\n      <td>33</td>\n      <td>Bechalor</td>\n      <td>female</td>\n    </tr>\n    <tr>\n      <th>2</th>\n      <td>PAIDOFF</td>\n      <td>1000</td>\n      <td>15</td>\n      <td>2016-09-08</td>\n      <td>2016-09-22</td>\n      <td>27</td>\n      <td>college</td>\n      <td>male</td>\n    </tr>\n    <tr>\n      <th>3</th>\n      <td>PAIDOFF</td>\n      <td>1000</td>\n      <td>30</td>\n      <td>2016-09-09</td>\n      <td>2016-10-08</td>\n      <td>28</td>\n      <td>college</td>\n      <td>female</td>\n    </tr>\n    <tr>\n      <th>4</th>\n      <td>PAIDOFF</td>\n      <td>1000</td>\n      <td>30</td>\n      <td>2016-09-09</td>\n      <td>2016-10-08</td>\n      <td>29</td>\n      <td>college</td>\n      <td>male</td>\n    </tr>\n  </tbody>\n</table>\n</div>",
                        "text/plain": "  Loan_Status  Principal  Terms Effective_Date   Due_Date  Age  \\\n0     PAIDOFF       1000     30     2016-09-08 2016-10-07   45   \n1     PAIDOFF       1000     30     2016-09-08 2016-10-07   33   \n2     PAIDOFF       1000     15     2016-09-08 2016-09-22   27   \n3     PAIDOFF       1000     30     2016-09-09 2016-10-08   28   \n4     PAIDOFF       1000     30     2016-09-09 2016-10-08   29   \n\n              Education  Gender  \n0  High School or Below    male  \n1              Bechalor  female  \n2               college    male  \n3               college  female  \n4               college    male  "
                    },
                    "execution_count": 3,
                    "metadata": {},
                    "output_type": "execute_result"
                }
            ],
            "source": "# Define the set of columns to keep and convert to datetime\nkeep_columns = ['loan_status', 'Principal', 'terms', 'effective_date', 'due_date', 'age', 'education', 'Gender']\ndatetime_columns = ['effective_date', 'due_date']\n\n# Read in dataset\ndf = pd.read_csv('loan_train.csv', usecols = keep_columns, parse_dates = datetime_columns)\ndf.rename(columns = {'loan_status': 'Loan_Status', 'terms': 'Terms', 'effective_date': 'Effective_Date', 'due_date': 'Due_Date', 'age': 'Age', 'education': 'Education'}, inplace = True) # converting columns to lower case\ndf.head()"
        },
        {
            "cell_type": "code",
            "execution_count": 4,
            "metadata": {},
            "outputs": [
                {
                    "data": {
                        "text/plain": "(346, 8)"
                    },
                    "execution_count": 4,
                    "metadata": {},
                    "output_type": "execute_result"
                }
            ],
            "source": "df.shape"
        },
        {
            "cell_type": "markdown",
            "metadata": {},
            "source": "Dataset contains 346 rows and 8 columns"
        },
        {
            "cell_type": "markdown",
            "metadata": {
                "button": false,
                "new_sheet": false,
                "run_control": {
                    "read_only": false
                }
            },
            "source": "## Data visualization and preparation"
        },
        {
            "cell_type": "markdown",
            "metadata": {
                "button": false,
                "new_sheet": false,
                "run_control": {
                    "read_only": false
                }
            },
            "source": "Examine the count of each loan status in our data. "
        },
        {
            "cell_type": "code",
            "execution_count": 5,
            "metadata": {
                "button": false,
                "new_sheet": false,
                "run_control": {
                    "read_only": false
                }
            },
            "outputs": [
                {
                    "data": {
                        "text/plain": "PAIDOFF       260\nCOLLECTION     86\nName: Loan_Status, dtype: int64"
                    },
                    "execution_count": 5,
                    "metadata": {},
                    "output_type": "execute_result"
                }
            ],
            "source": "df.Loan_Status.value_counts()"
        },
        {
            "cell_type": "markdown",
            "metadata": {
                "button": false,
                "new_sheet": false,
                "run_control": {
                    "read_only": false
                }
            },
            "source": "260 people have paid off the loan on time while 86 have gone into collection."
        },
        {
            "cell_type": "markdown",
            "metadata": {},
            "source": "Now lets examine the count by education level."
        },
        {
            "cell_type": "code",
            "execution_count": 6,
            "metadata": {},
            "outputs": [
                {
                    "data": {
                        "text/plain": "High School or Below    151\ncollege                 149\nBechalor                 44\nMaster or Above           2\nName: Education, dtype: int64"
                    },
                    "execution_count": 6,
                    "metadata": {},
                    "output_type": "execute_result"
                }
            ],
            "source": "df.Education.value_counts()"
        },
        {
            "cell_type": "markdown",
            "metadata": {},
            "source": "Some of values in the education column are spelled incorrectly so they will be corrected in the next cell. Also, there are few records with Masters degree so they will be removed."
        },
        {
            "cell_type": "code",
            "execution_count": 7,
            "metadata": {},
            "outputs": [],
            "source": "# Correct spelling for values in education column\ndf.Education.replace({\"Bechalor\": \"Bachelor\", \"college\": \"College\"}, inplace = True)"
        },
        {
            "cell_type": "code",
            "execution_count": 8,
            "metadata": {},
            "outputs": [],
            "source": "# Remove Masters Degree records\ndf = df[df.Education != 'Master or Above']"
        },
        {
            "cell_type": "code",
            "execution_count": 9,
            "metadata": {},
            "outputs": [
                {
                    "data": {
                        "image/png": "[encoded data removed]",
                        "text/plain": "<Figure size 432x216 with 2 Axes>"
                    },
                    "metadata": {
                        "needs_background": "light"
                    },
                    "output_type": "display_data"
                }
            ],
            "source": "# Principal count by gender visual\nbins = np.linspace(df.Principal.min(), df.Principal.max(), 10)\ng = sns.FacetGrid(df, col = \"Gender\", hue = \"Loan_Status\", palette = \"Set1\", col_wrap = 2)\ng.map(plt.hist, 'Principal', bins = bins, ec = \"k\")\n\ng.axes[-1].legend()\nplt.show()"
        },
        {
            "cell_type": "code",
            "execution_count": 10,
            "metadata": {
                "button": false,
                "new_sheet": false,
                "run_control": {
                    "read_only": false
                }
            },
            "outputs": [
                {
                    "data": {
                        "image/png": "[encoded data removed]",
                        "text/plain": "<Figure size 432x216 with 2 Axes>"
                    },
                    "metadata": {
                        "needs_background": "light"
                    },
                    "output_type": "display_data"
                }
            ],
            "source": "# Age count by gender visual\nbins = np.linspace(df.Age.min(), df.Age.max(), 10)\ng = sns.FacetGrid(df, col = \"Gender\", hue = \"Loan_Status\", palette = \"Set1\", col_wrap = 2)\ng.map(plt.hist, 'Age', bins = bins, ec = \"k\")\n\ng.axes[-1].legend()\nplt.show()"
        },
        {
            "cell_type": "markdown",
            "metadata": {},
            "source": "We will take a look at the day of week to determine when people get a loan."
        },
        {
            "cell_type": "code",
            "execution_count": 11,
            "metadata": {},
            "outputs": [
                {
                    "data": {
                        "image/png": "[encoded data removed]",
                        "text/plain": "<Figure size 432x216 with 2 Axes>"
                    },
                    "metadata": {
                        "needs_background": "light"
                    },
                    "output_type": "display_data"
                }
            ],
            "source": "# Day of week count by gender visual \ndf['Day_Of_Week'] = df['Effective_Date'].dt.dayofweek\nbins = np.linspace(df.Day_Of_Week.min(), df.Day_Of_Week.max(), 10)\ng = sns.FacetGrid(df, col = \"Gender\", hue = \"Loan_Status\", palette = \"Set1\", col_wrap = 2)\ng.map(plt.hist, 'Day_Of_Week', bins = bins, ec = \"k\")\n\ng.axes[-1].legend()\nplt.show()"
        },
        {
            "cell_type": "markdown",
            "metadata": {},
            "source": "We see that people who get the loan at the end of the week dont pay it off, so let's use Feature binarization to set a threshold values less then day 4."
        },
        {
            "cell_type": "code",
            "execution_count": 12,
            "metadata": {},
            "outputs": [
                {
                    "data": {
                        "text/html": "<div>\n<style scoped>\n    .dataframe tbody tr th:only-of-type {\n        vertical-align: middle;\n    }\n\n    .dataframe tbody tr th {\n        vertical-align: top;\n    }\n\n    .dataframe thead th {\n        text-align: right;\n    }\n</style>\n<table border=\"1\" class=\"dataframe\">\n  <thead>\n    <tr style=\"text-align: right;\">\n      <th></th>\n      <th>Loan_Status</th>\n      <th>Principal</th>\n      <th>Terms</th>\n      <th>Effective_Date</th>\n      <th>Due_Date</th>\n      <th>Age</th>\n      <th>Education</th>\n      <th>Gender</th>\n      <th>Day_Of_Week</th>\n      <th>Weekend</th>\n    </tr>\n  </thead>\n  <tbody>\n    <tr>\n      <th>0</th>\n      <td>PAIDOFF</td>\n      <td>1000</td>\n      <td>30</td>\n      <td>2016-09-08</td>\n      <td>2016-10-07</td>\n      <td>45</td>\n      <td>High School or Below</td>\n      <td>male</td>\n      <td>3</td>\n      <td>0</td>\n    </tr>\n    <tr>\n      <th>1</th>\n      <td>PAIDOFF</td>\n      <td>1000</td>\n      <td>30</td>\n      <td>2016-09-08</td>\n      <td>2016-10-07</td>\n      <td>33</td>\n      <td>Bachelor</td>\n      <td>female</td>\n      <td>3</td>\n      <td>0</td>\n    </tr>\n    <tr>\n      <th>2</th>\n      <td>PAIDOFF</td>\n      <td>1000</td>\n      <td>15</td>\n      <td>2016-09-08</td>\n      <td>2016-09-22</td>\n      <td>27</td>\n      <td>College</td>\n      <td>male</td>\n      <td>3</td>\n      <td>0</td>\n    </tr>\n    <tr>\n      <th>3</th>\n      <td>PAIDOFF</td>\n      <td>1000</td>\n      <td>30</td>\n      <td>2016-09-09</td>\n      <td>2016-10-08</td>\n      <td>28</td>\n      <td>College</td>\n      <td>female</td>\n      <td>4</td>\n      <td>1</td>\n    </tr>\n    <tr>\n      <th>4</th>\n      <td>PAIDOFF</td>\n      <td>1000</td>\n      <td>30</td>\n      <td>2016-09-09</td>\n      <td>2016-10-08</td>\n      <td>29</td>\n      <td>College</td>\n      <td>male</td>\n      <td>4</td>\n      <td>1</td>\n    </tr>\n  </tbody>\n</table>\n</div>",
                        "text/plain": "  Loan_Status  Principal  Terms Effective_Date   Due_Date  Age  \\\n0     PAIDOFF       1000     30     2016-09-08 2016-10-07   45   \n1     PAIDOFF       1000     30     2016-09-08 2016-10-07   33   \n2     PAIDOFF       1000     15     2016-09-08 2016-09-22   27   \n3     PAIDOFF       1000     30     2016-09-09 2016-10-08   28   \n4     PAIDOFF       1000     30     2016-09-09 2016-10-08   29   \n\n              Education  Gender  Day_Of_Week  Weekend  \n0  High School or Below    male            3        0  \n1              Bachelor  female            3        0  \n2               College    male            3        0  \n3               College  female            4        1  \n4               College    male            4        1  "
                    },
                    "execution_count": 12,
                    "metadata": {},
                    "output_type": "execute_result"
                }
            ],
            "source": "# Create specific column for weekend\ndf['Weekend'] = df['Day_Of_Week'].apply(lambda x: 1 if (x>3) else 0)\ndf.head()"
        },
        {
            "cell_type": "markdown",
            "metadata": {
                "button": false,
                "new_sheet": false,
                "run_control": {
                    "read_only": false
                }
            },
            "source": "## Pre-processing: feature selection/extraction"
        },
        {
            "cell_type": "markdown",
            "metadata": {},
            "source": "View features that will be used for our models:"
        },
        {
            "cell_type": "code",
            "execution_count": 13,
            "metadata": {},
            "outputs": [
                {
                    "data": {
                        "text/html": "<div>\n<style scoped>\n    .dataframe tbody tr th:only-of-type {\n        vertical-align: middle;\n    }\n\n    .dataframe tbody tr th {\n        vertical-align: top;\n    }\n\n    .dataframe thead th {\n        text-align: right;\n    }\n</style>\n<table border=\"1\" class=\"dataframe\">\n  <thead>\n    <tr style=\"text-align: right;\">\n      <th></th>\n      <th>Principal</th>\n      <th>Terms</th>\n      <th>Age</th>\n      <th>Education</th>\n      <th>Gender</th>\n      <th>Weekend</th>\n    </tr>\n  </thead>\n  <tbody>\n    <tr>\n      <th>0</th>\n      <td>1000</td>\n      <td>30</td>\n      <td>45</td>\n      <td>High School or Below</td>\n      <td>male</td>\n      <td>0</td>\n    </tr>\n    <tr>\n      <th>1</th>\n      <td>1000</td>\n      <td>30</td>\n      <td>33</td>\n      <td>Bachelor</td>\n      <td>female</td>\n      <td>0</td>\n    </tr>\n    <tr>\n      <th>2</th>\n      <td>1000</td>\n      <td>15</td>\n      <td>27</td>\n      <td>College</td>\n      <td>male</td>\n      <td>0</td>\n    </tr>\n    <tr>\n      <th>3</th>\n      <td>1000</td>\n      <td>30</td>\n      <td>28</td>\n      <td>College</td>\n      <td>female</td>\n      <td>1</td>\n    </tr>\n    <tr>\n      <th>4</th>\n      <td>1000</td>\n      <td>30</td>\n      <td>29</td>\n      <td>College</td>\n      <td>male</td>\n      <td>1</td>\n    </tr>\n  </tbody>\n</table>\n</div>",
                        "text/plain": "   Principal  Terms  Age             Education  Gender  Weekend\n0       1000     30   45  High School or Below    male        0\n1       1000     30   33              Bachelor  female        0\n2       1000     15   27               College    male        0\n3       1000     30   28               College  female        1\n4       1000     30   29               College    male        1"
                    },
                    "execution_count": 13,
                    "metadata": {},
                    "output_type": "execute_result"
                }
            ],
            "source": "df[['Principal', 'Terms', 'Age', 'Education', 'Gender', 'Weekend']].head()"
        },
        {
            "cell_type": "markdown",
            "metadata": {
                "button": false,
                "new_sheet": false,
                "run_control": {
                    "read_only": false
                }
            },
            "source": "Lets look at gender:"
        },
        {
            "cell_type": "code",
            "execution_count": 14,
            "metadata": {
                "button": false,
                "new_sheet": false,
                "run_control": {
                    "read_only": false
                }
            },
            "outputs": [
                {
                    "data": {
                        "text/plain": "Gender  Loan_Status\nfemale  PAIDOFF        0.865385\n        COLLECTION     0.134615\nmale    PAIDOFF        0.732877\n        COLLECTION     0.267123\nName: Loan_Status, dtype: float64"
                    },
                    "execution_count": 14,
                    "metadata": {},
                    "output_type": "execute_result"
                }
            ],
            "source": "df.groupby(['Gender'])['Loan_Status'].value_counts(normalize=True)"
        },
        {
            "cell_type": "markdown",
            "metadata": {
                "button": false,
                "new_sheet": false,
                "run_control": {
                    "read_only": false
                }
            },
            "source": "86% of females compared to only 73% males pay their loans."
        },
        {
            "cell_type": "markdown",
            "metadata": {},
            "source": "Lets look at education:"
        },
        {
            "cell_type": "code",
            "execution_count": 15,
            "metadata": {
                "button": false,
                "new_sheet": false,
                "run_control": {
                    "read_only": false
                }
            },
            "outputs": [
                {
                    "data": {
                        "text/plain": "Education             Loan_Status\nBachelor              PAIDOFF        0.750000\n                      COLLECTION     0.250000\nCollege               PAIDOFF        0.765101\n                      COLLECTION     0.234899\nHigh School or Below  PAIDOFF        0.741722\n                      COLLECTION     0.258278\nName: Loan_Status, dtype: float64"
                    },
                    "execution_count": 15,
                    "metadata": {},
                    "output_type": "execute_result"
                }
            ],
            "source": "df.groupby(['Education'])['Loan_Status'].value_counts(normalize=True)"
        },
        {
            "cell_type": "markdown",
            "metadata": {},
            "source": "All education levels have the same percentage of likelihood to pay off their loans."
        },
        {
            "cell_type": "markdown",
            "metadata": {
                "button": false,
                "new_sheet": false,
                "run_control": {
                    "read_only": false
                }
            },
            "source": "#### Feature engineering (one hot encoding)"
        },
        {
            "cell_type": "code",
            "execution_count": 25,
            "metadata": {
                "button": false,
                "new_sheet": false,
                "run_control": {
                    "read_only": false
                }
            },
            "outputs": [
                {
                    "data": {
                        "text/html": "<div>\n<style scoped>\n    .dataframe tbody tr th:only-of-type {\n        vertical-align: middle;\n    }\n\n    .dataframe tbody tr th {\n        vertical-align: top;\n    }\n\n    .dataframe thead th {\n        text-align: right;\n    }\n</style>\n<table border=\"1\" class=\"dataframe\">\n  <thead>\n    <tr style=\"text-align: right;\">\n      <th></th>\n      <th>Principal</th>\n      <th>Terms</th>\n      <th>Age</th>\n      <th>Gender</th>\n      <th>Weekend</th>\n      <th>Bachelor</th>\n      <th>College</th>\n      <th>High School or Below</th>\n    </tr>\n  </thead>\n  <tbody>\n    <tr>\n      <th>0</th>\n      <td>1000</td>\n      <td>30</td>\n      <td>45</td>\n      <td>0</td>\n      <td>0</td>\n      <td>0</td>\n      <td>0</td>\n      <td>1</td>\n    </tr>\n    <tr>\n      <th>1</th>\n      <td>1000</td>\n      <td>30</td>\n      <td>33</td>\n      <td>1</td>\n      <td>0</td>\n      <td>1</td>\n      <td>0</td>\n      <td>0</td>\n    </tr>\n    <tr>\n      <th>2</th>\n      <td>1000</td>\n      <td>15</td>\n      <td>27</td>\n      <td>0</td>\n      <td>0</td>\n      <td>0</td>\n      <td>1</td>\n      <td>0</td>\n    </tr>\n    <tr>\n      <th>3</th>\n      <td>1000</td>\n      <td>30</td>\n      <td>28</td>\n      <td>1</td>\n      <td>1</td>\n      <td>0</td>\n      <td>1</td>\n      <td>0</td>\n    </tr>\n    <tr>\n      <th>4</th>\n      <td>1000</td>\n      <td>30</td>\n      <td>29</td>\n      <td>0</td>\n      <td>1</td>\n      <td>0</td>\n      <td>1</td>\n      <td>0</td>\n    </tr>\n  </tbody>\n</table>\n</div>",
                        "text/plain": "   Principal  Terms  Age  Gender  Weekend  Bachelor  College  \\\n0       1000     30   45       0        0         0        0   \n1       1000     30   33       1        0         1        0   \n2       1000     15   27       0        0         0        1   \n3       1000     30   28       1        1         0        1   \n4       1000     30   29       0        1         0        1   \n\n   High School or Below  \n0                     1  \n1                     0  \n2                     0  \n3                     0  \n4                     0  "
                    },
                    "execution_count": 25,
                    "metadata": {},
                    "output_type": "execute_result"
                }
            ],
            "source": "# Convert gender to binary values\ndf['Gender'].replace({\"male\": 0, \"female\": 1}, inplace=True)\n\nFeature = df[['Principal', 'Terms', 'Age', 'Gender', 'Weekend', 'Education']].copy()\nFeature = pd.get_dummies(Feature, prefix = '', prefix_sep='')\nFeature.head()"
        },
        {
            "cell_type": "markdown",
            "metadata": {
                "button": false,
                "new_sheet": false,
                "run_control": {
                    "read_only": false
                }
            },
            "source": "#### Convert feature set to numpy array"
        },
        {
            "cell_type": "code",
            "execution_count": 26,
            "metadata": {
                "button": false,
                "new_sheet": false,
                "run_control": {
                    "read_only": false
                }
            },
            "outputs": [
                {
                    "data": {
                        "text/plain": "array([[1000.,   30.,   45.,    0.,    0.,    0.,    0.,    1.],\n       [1000.,   30.,   33.,    1.,    0.,    1.,    0.,    0.],\n       [1000.,   15.,   27.,    0.,    0.,    0.,    1.,    0.],\n       [1000.,   30.,   28.,    1.,    1.,    0.,    1.,    0.],\n       [1000.,   30.,   29.,    0.,    1.,    0.,    1.,    0.]],\n      dtype=float32)"
                    },
                    "execution_count": 26,
                    "metadata": {},
                    "output_type": "execute_result"
                }
            ],
            "source": "X = Feature.to_numpy(dtype = 'float32', copy = True)\nX[:5]"
        },
        {
            "cell_type": "markdown",
            "metadata": {},
            "source": "#### Convert target labels to numpy array"
        },
        {
            "cell_type": "code",
            "execution_count": 33,
            "metadata": {},
            "outputs": [
                {
                    "data": {
                        "text/plain": "array([0, 0, 0, 0, 0])"
                    },
                    "execution_count": 33,
                    "metadata": {},
                    "output_type": "execute_result"
                }
            ],
            "source": "y = df['Loan_Status'].replace({\"PAIDOFF\": 0, \"COLLECTION\": 1}).to_numpy(copy = True) # Convert our target variable to binary (PAIDOFF: 0, COLLECTION: 1)\ny[:5]"
        },
        {
            "cell_type": "markdown",
            "metadata": {
                "button": false,
                "new_sheet": false,
                "run_control": {
                    "read_only": false
                }
            },
            "source": "## Normalize Data"
        },
        {
            "cell_type": "markdown",
            "metadata": {
                "button": false,
                "new_sheet": false,
                "run_control": {
                    "read_only": false
                }
            },
            "source": "We need to split our dataset into train and test sets to determine which K-value is the best for our K-nearest neighbor model."
        },
        {
            "cell_type": "code",
            "execution_count": 34,
            "metadata": {},
            "outputs": [
                {
                    "name": "stdout",
                    "output_type": "stream",
                    "text": "Train set:  (240, 8) (240,)\nTest set:  (104, 8) (104,)\n"
                }
            ],
            "source": "from sklearn.model_selection import train_test_split\nfrom sklearn.preprocessing import StandardScaler\n\nX_train, X_test, y_train, y_test = train_test_split(X, y, test_size = 0.30, random_state = 1)\n\nprint(\"Train set: \", X_train.shape, y_train.shape)\nprint(\"Test set: \", X_test.shape, y_test.shape)"
        },
        {
            "cell_type": "markdown",
            "metadata": {},
            "source": "Data Standardization give data zero mean and unit variance."
        },
        {
            "cell_type": "code",
            "execution_count": 35,
            "metadata": {},
            "outputs": [
                {
                    "name": "stdout",
                    "output_type": "stream",
                    "text": "Train:  [[ 0.510258   -0.9200219  -0.6439651   2.305597    0.83074635 -0.41319734\n   1.1243446  -0.83793086]\n [ 0.510258    0.95651    -1.5171382  -0.4337262   0.83074635 -0.41319734\n  -0.8894069   1.1934167 ]] \n\nTest:  [[ 0.510258    0.95651    -0.46933052 -0.4337262   0.83074635 -0.41319734\n  -0.8894069   1.1934167 ]\n [-1.2267905  -0.9200219   1.4516503  -0.4337262  -1.2037344  -0.41319734\n   1.1243446  -0.83793086]]\n"
                }
            ],
            "source": "scaler = StandardScaler().fit(X_train)\n\nX_train = scaler.transform(X_train)\nX_test = scaler.transform(X_test)\nX_full_train = StandardScaler().fit(X).transform(X) # full feature set\n\nprint(\"Train: \", X_train[:2], \"\\n\")\nprint(\"Test: \", X_test[:2])"
        },
        {
            "cell_type": "markdown",
            "metadata": {
                "button": false,
                "new_sheet": false,
                "run_control": {
                    "read_only": false
                }
            },
            "source": "## ML Classification"
        },
        {
            "cell_type": "markdown",
            "metadata": {
                "button": false,
                "new_sheet": false,
                "run_control": {
                    "read_only": false
                }
            },
            "source": "Now, it is your turn, use the training set to build an accurate model. Then use the test set to report the accuracy of the model\nYou should use the following algorithm:\n- K Nearest Neighbor(KNN)\n- Decision Tree\n- Support Vector Machine\n- Logistic Regression\n\n\n\n__ Notice:__ \n- You can go above and change the pre-processing, feature selection, feature-extraction, and so on, to make a better model.\n- You should use either scikit-learn, Scipy or Numpy libraries for developing the classification algorithms.\n- You should include the code of the algorithm in the following cells."
        },
        {
            "cell_type": "markdown",
            "metadata": {},
            "source": "## K Nearest Neighbor (KNN)\n*Notice*: You should find the best k to build the model with the best accuracy.  \n**Warning:** You should not use the __loan_test.csv__ for finding the best k, however, you can split your train_loan.csv into train and test to find the best __k__."
        },
        {
            "cell_type": "code",
            "execution_count": 36,
            "metadata": {},
            "outputs": [],
            "source": "from sklearn.neighbors import KNeighborsClassifier\nfrom sklearn import metrics\n\n# Number Ks used will be 10\nmean_acc = np.zeros(10)\nstd_acc = np.zeros(10)\n\n# Store values to determine which K provides the best accuracy\nfor i in range(10):\n    loan_knn = KNeighborsClassifier(n_neighbors = (i + 1)).fit(X_train, y_train)\n    y_pred = loan_knn.predict(X_test)\n         \n    mean_acc[i] = metrics.accuracy_score(y_test, y_pred)\n    std_acc[i] = np.std(y_pred == y_test) / np.sqrt(y_pred.shape[0])"
        },
        {
            "cell_type": "markdown",
            "metadata": {},
            "source": "#### Plot model accuracy for different number of neighbors"
        },
        {
            "cell_type": "code",
            "execution_count": 37,
            "metadata": {},
            "outputs": [
                {
                    "data": {
                        "image/png": "[encoded data removed]",
                        "text/plain": "<Figure size 432x288 with 1 Axes>"
                    },
                    "metadata": {
                        "needs_background": "light"
                    },
                    "output_type": "display_data"
                }
            ],
            "source": "plt.plot(range(1, 11), mean_acc, 'g')\nplt.fill_between(range(1, 11), mean_acc - 1 * std_acc, mean_acc + 1 * std_acc, alpha=0.10)\nplt.legend(('Accuracy ', '+/- 3xstd'))\nplt.ylabel('Accuracy ')\nplt.xlabel('Number of Neighbors (K)')\nplt.tight_layout()\nplt.show()"
        },
        {
            "cell_type": "code",
            "execution_count": 38,
            "metadata": {},
            "outputs": [
                {
                    "name": "stdout",
                    "output_type": "stream",
                    "text": "The best accuracy was with 0.7788461538461539 with k = 2\n"
                }
            ],
            "source": "print(\"The best accuracy was with\", mean_acc.max(), \"with k =\", mean_acc.argmax() + 1)"
        },
        {
            "cell_type": "code",
            "execution_count": 40,
            "metadata": {},
            "outputs": [],
            "source": "# Train data with most accurate K\nloanKnn = KNeighborsClassifier(n_neighbors = 2).fit(X_full_train, y)"
        },
        {
            "cell_type": "markdown",
            "metadata": {},
            "source": "## Decision Tree"
        },
        {
            "cell_type": "code",
            "execution_count": 41,
            "metadata": {},
            "outputs": [],
            "source": "from sklearn.tree import DecisionTreeClassifier\n\n# Train data\nloanDecisionTree = DecisionTreeClassifier(criterion=\"entropy\").fit(X_full_train[:,:5], y) # We will use the feature set without encoded columns for training"
        },
        {
            "cell_type": "markdown",
            "metadata": {},
            "source": "## Support Vector Machine"
        },
        {
            "cell_type": "code",
            "execution_count": 42,
            "metadata": {},
            "outputs": [],
            "source": "from sklearn.svm import SVC\n\n# Train data\nloanSVM = SVC(kernel = 'rbf', gamma = 'scale').fit(X_full_train, y) # We will use the feature set with encoded columns for training"
        },
        {
            "cell_type": "markdown",
            "metadata": {},
            "source": "## Logistic Regression"
        },
        {
            "cell_type": "code",
            "execution_count": 43,
            "metadata": {},
            "outputs": [],
            "source": "from sklearn.linear_model import LogisticRegression\n\n# Train data\nloanLogisticReg = LogisticRegression(solver = 'liblinear').fit(X_full_train, y) # We will use the feature set with encoded columns for training"
        },
        {
            "cell_type": "markdown",
            "metadata": {},
            "source": "## Load test set for evaluation "
        },
        {
            "cell_type": "markdown",
            "metadata": {},
            "source": "Download dataset from IBM Cognitive Class Object Storage."
        },
        {
            "cell_type": "code",
            "execution_count": 44,
            "metadata": {},
            "outputs": [
                {
                    "name": "stdout",
                    "output_type": "stream",
                    "text": "--2020-05-20 23:30:42--  https://s3-api.us-geo.objectstorage.softlayer.net/cf-courses-data/CognitiveClass/ML0101ENv3/labs/loan_test.csv\nResolving s3-api.us-geo.objectstorage.softlayer.net (s3-api.us-geo.objectstorage.softlayer.net)... 67.228.254.196\nConnecting to s3-api.us-geo.objectstorage.softlayer.net (s3-api.us-geo.objectstorage.softlayer.net)|67.228.254.196|:443... connected.\nHTTP request sent, awaiting response... 200 OK\nLength: 3642 (3.6K) [text/csv]\nSaving to: \u2018loan_test.csv\u2019\n\n100%[======================================>] 3,642       --.-K/s   in 0s      \n\n2020-05-20 23:30:42 (346 MB/s) - \u2018loan_test.csv\u2019 saved [3642/3642]\n\n"
                }
            ],
            "source": "!wget -O loan_test.csv https://s3-api.us-geo.objectstorage.softlayer.net/cf-courses-data/CognitiveClass/ML0101ENv3/labs/loan_test.csv"
        },
        {
            "cell_type": "code",
            "execution_count": 45,
            "metadata": {},
            "outputs": [
                {
                    "data": {
                        "text/html": "<div>\n<style scoped>\n    .dataframe tbody tr th:only-of-type {\n        vertical-align: middle;\n    }\n\n    .dataframe tbody tr th {\n        vertical-align: top;\n    }\n\n    .dataframe thead th {\n        text-align: right;\n    }\n</style>\n<table border=\"1\" class=\"dataframe\">\n  <thead>\n    <tr style=\"text-align: right;\">\n      <th></th>\n      <th>Loan_Status</th>\n      <th>Principal</th>\n      <th>Terms</th>\n      <th>Effective_Date</th>\n      <th>Due_Date</th>\n      <th>Age</th>\n      <th>Education</th>\n      <th>Gender</th>\n    </tr>\n  </thead>\n  <tbody>\n    <tr>\n      <th>0</th>\n      <td>PAIDOFF</td>\n      <td>1000</td>\n      <td>30</td>\n      <td>2016-09-08</td>\n      <td>2016-10-07</td>\n      <td>50</td>\n      <td>Bechalor</td>\n      <td>female</td>\n    </tr>\n    <tr>\n      <th>1</th>\n      <td>PAIDOFF</td>\n      <td>300</td>\n      <td>7</td>\n      <td>2016-09-09</td>\n      <td>2016-09-15</td>\n      <td>35</td>\n      <td>Master or Above</td>\n      <td>male</td>\n    </tr>\n    <tr>\n      <th>2</th>\n      <td>PAIDOFF</td>\n      <td>1000</td>\n      <td>30</td>\n      <td>2016-09-10</td>\n      <td>2016-10-09</td>\n      <td>43</td>\n      <td>High School or Below</td>\n      <td>female</td>\n    </tr>\n    <tr>\n      <th>3</th>\n      <td>PAIDOFF</td>\n      <td>1000</td>\n      <td>30</td>\n      <td>2016-09-10</td>\n      <td>2016-10-09</td>\n      <td>26</td>\n      <td>college</td>\n      <td>male</td>\n    </tr>\n    <tr>\n      <th>4</th>\n      <td>PAIDOFF</td>\n      <td>800</td>\n      <td>15</td>\n      <td>2016-09-11</td>\n      <td>2016-09-25</td>\n      <td>29</td>\n      <td>Bechalor</td>\n      <td>male</td>\n    </tr>\n  </tbody>\n</table>\n</div>",
                        "text/plain": "  Loan_Status  Principal  Terms Effective_Date   Due_Date  Age  \\\n0     PAIDOFF       1000     30     2016-09-08 2016-10-07   50   \n1     PAIDOFF        300      7     2016-09-09 2016-09-15   35   \n2     PAIDOFF       1000     30     2016-09-10 2016-10-09   43   \n3     PAIDOFF       1000     30     2016-09-10 2016-10-09   26   \n4     PAIDOFF        800     15     2016-09-11 2016-09-25   29   \n\n              Education  Gender  \n0              Bechalor  female  \n1       Master or Above    male  \n2  High School or Below  female  \n3               college    male  \n4              Bechalor    male  "
                    },
                    "execution_count": 45,
                    "metadata": {},
                    "output_type": "execute_result"
                }
            ],
            "source": "# Load data from CSV file\ndf_test = pd.read_csv('loan_test.csv', usecols = keep_columns, parse_dates = datetime_columns)\ndf_test.rename(columns = {'loan_status': 'Loan_Status', 'terms': 'Terms', 'effective_date': 'Effective_Date', 'due_date': 'Due_Date', 'age': 'Age', 'education': 'Education'}, inplace = True) # converting columns to lower case\ndf_test.head()"
        },
        {
            "cell_type": "markdown",
            "metadata": {},
            "source": "#### Prepare data for evaluation"
        },
        {
            "cell_type": "code",
            "execution_count": 46,
            "metadata": {},
            "outputs": [],
            "source": "# Correct spelling for values in education column\ndf_test.Education.replace({\"Bechalor\": \"Bachelor\", \"college\": \"College\"}, inplace = True)\n\n# Remove Masters Degree records if any exist\ndf_test = df_test[df_test.Education != 'Master or Above']"
        },
        {
            "cell_type": "code",
            "execution_count": 47,
            "metadata": {},
            "outputs": [
                {
                    "data": {
                        "text/html": "<div>\n<style scoped>\n    .dataframe tbody tr th:only-of-type {\n        vertical-align: middle;\n    }\n\n    .dataframe tbody tr th {\n        vertical-align: top;\n    }\n\n    .dataframe thead th {\n        text-align: right;\n    }\n</style>\n<table border=\"1\" class=\"dataframe\">\n  <thead>\n    <tr style=\"text-align: right;\">\n      <th></th>\n      <th>Principal</th>\n      <th>Terms</th>\n      <th>Age</th>\n      <th>Gender</th>\n      <th>Weekend</th>\n      <th>Bachelor</th>\n      <th>College</th>\n      <th>High School or Below</th>\n    </tr>\n  </thead>\n  <tbody>\n    <tr>\n      <th>0</th>\n      <td>1000</td>\n      <td>30</td>\n      <td>50</td>\n      <td>1</td>\n      <td>0</td>\n      <td>1</td>\n      <td>0</td>\n      <td>0</td>\n    </tr>\n    <tr>\n      <th>2</th>\n      <td>1000</td>\n      <td>30</td>\n      <td>43</td>\n      <td>1</td>\n      <td>1</td>\n      <td>0</td>\n      <td>0</td>\n      <td>1</td>\n    </tr>\n    <tr>\n      <th>3</th>\n      <td>1000</td>\n      <td>30</td>\n      <td>26</td>\n      <td>0</td>\n      <td>1</td>\n      <td>0</td>\n      <td>1</td>\n      <td>0</td>\n    </tr>\n    <tr>\n      <th>4</th>\n      <td>800</td>\n      <td>15</td>\n      <td>29</td>\n      <td>0</td>\n      <td>1</td>\n      <td>1</td>\n      <td>0</td>\n      <td>0</td>\n    </tr>\n    <tr>\n      <th>5</th>\n      <td>700</td>\n      <td>15</td>\n      <td>33</td>\n      <td>0</td>\n      <td>1</td>\n      <td>0</td>\n      <td>0</td>\n      <td>1</td>\n    </tr>\n  </tbody>\n</table>\n</div>",
                        "text/plain": "   Principal  Terms  Age  Gender  Weekend  Bachelor  College  \\\n0       1000     30   50       1        0         1        0   \n2       1000     30   43       1        1         0        0   \n3       1000     30   26       0        1         0        1   \n4        800     15   29       0        1         1        0   \n5        700     15   33       0        1         0        0   \n\n   High School or Below  \n0                     0  \n2                     1  \n3                     0  \n4                     0  \n5                     1  "
                    },
                    "execution_count": 47,
                    "metadata": {},
                    "output_type": "execute_result"
                }
            ],
            "source": "# Create columns for day of the week and weekend flag\ndf_test['Day_Of_Week'] = df_test['Effective_Date'].dt.dayofweek\ndf_test['Weekend'] = df_test['Day_Of_Week'].apply(lambda x: 1 if (x>3) else 0)\n\n# Convert gender to binary values\ndf_test['Gender'].replace({\"male\": 0, \"female\": 1}, inplace=True)\n\n# One encode conversion for education attribute\nFeature_test = df_test[['Principal', 'Terms', 'Age', 'Gender', 'Weekend', 'Education']].copy()\nFeature_test = pd.get_dummies(Feature_test, prefix = '', prefix_sep='')\nFeature_test.head()"
        },
        {
            "cell_type": "markdown",
            "metadata": {},
            "source": "#### Convert to numpy arrays"
        },
        {
            "cell_type": "code",
            "execution_count": 48,
            "metadata": {},
            "outputs": [],
            "source": "# Feature set\nX_loan_test = Feature_test.to_numpy(dtype = 'float32', copy = True)\n\n# Target labels\ny_loan_test = df_test['Loan_Status'].replace({\"PAIDOFF\": 0, \"COLLECTION\": 1}).to_numpy(copy = True)"
        },
        {
            "cell_type": "markdown",
            "metadata": {},
            "source": "#### Normalize Data"
        },
        {
            "cell_type": "code",
            "execution_count": 49,
            "metadata": {},
            "outputs": [
                {
                    "data": {
                        "text/plain": "array([[ 0.48913425,  0.89844006,  3.0598512 ,  1.9306147 , -1.317893  ,\n         2.3452077 , -0.8905636 , -0.82305497],\n       [ 0.48913425,  0.89844006,  1.8911357 ,  1.9306147 ,  0.7587869 ,\n        -0.42640144, -0.8905636 ,  1.214986  ],\n       [ 0.48913425,  0.89844006, -0.94717324, -0.5179698 ,  0.7587869 ,\n        -0.42640144,  1.1228845 , -0.82305497],\n       [-1.1005521 , -0.8892723 , -0.44629517, -0.5179698 ,  0.7587869 ,\n         2.3452077 , -0.8905636 , -0.82305497],\n       [-1.8953953 , -0.8892723 ,  0.22154222, -0.5179698 ,  0.7587869 ,\n        -0.42640144, -0.8905636 ,  1.214986  ]], dtype=float32)"
                    },
                    "execution_count": 49,
                    "metadata": {},
                    "output_type": "execute_result"
                }
            ],
            "source": "X_full_test = StandardScaler().fit(X_loan_test).transform(X_loan_test) # full feature set\nX_full_test[:5]"
        },
        {
            "cell_type": "markdown",
            "metadata": {},
            "source": "## Model Evaluation using test set"
        },
        {
            "cell_type": "code",
            "execution_count": 50,
            "metadata": {},
            "outputs": [],
            "source": "from sklearn.metrics import jaccard_similarity_score\nfrom sklearn.metrics import f1_score\nfrom sklearn.metrics import log_loss\n\nevaluation_df = pd.DataFrame(columns = ['Algorithm', 'Jaccard', 'F1-Score', 'LogLoss']) # Create dataframe to store all evaluation metrics"
        },
        {
            "cell_type": "code",
            "execution_count": 51,
            "metadata": {},
            "outputs": [],
            "source": "# Predict with K-Nearest Neighbor\npredKnn = loanKnn.predict(X_full_test)\n\n# Append evaluation metrics to dataframe\nevaluation_df = evaluation_df.append({'Algorithm': \"KNN\", 'Jaccard': jaccard_similarity_score(y_loan_test, predKnn), \n                                      'F1-Score': f1_score(y_loan_test, predKnn, average='weighted'), 'LogLoss': None}, ignore_index = True)"
        },
        {
            "cell_type": "code",
            "execution_count": 52,
            "metadata": {},
            "outputs": [],
            "source": "# Predict with Decision Tree\npredDecisionTree = loanDecisionTree.predict(X_full_test[:,:5])\n\n# Append evaluation metrics to dataframe\nevaluation_df = evaluation_df.append({'Algorithm': \"Decision Tree\", 'Jaccard': jaccard_similarity_score(y_loan_test, predDecisionTree), \n                                      'F1-Score': f1_score(y_loan_test, predDecisionTree, average='weighted'), 'LogLoss': None}, ignore_index = True)"
        },
        {
            "cell_type": "code",
            "execution_count": 53,
            "metadata": {},
            "outputs": [],
            "source": "# Predict with Support Vector Machines\npredSVM = loanSVM.predict(X_full_test)\n\n# Append evaluation metrics to dataframe\nevaluation_df = evaluation_df.append({'Algorithm': \"SVM\", 'Jaccard': jaccard_similarity_score(y_loan_test, predSVM), \n                                      'F1-Score': f1_score(y_loan_test, predSVM, average='weighted'), 'LogLoss': None}, ignore_index = True)"
        },
        {
            "cell_type": "code",
            "execution_count": 54,
            "metadata": {},
            "outputs": [],
            "source": "# Predict Logistic Regression\npredLogisticReg = loanLogisticReg.predict(X_full_test)\npredLogisticRegProb = loanLogisticReg.predict_proba(X_full_test)\n\n# Append evaluation metrics to dataframe\nevaluation_df = evaluation_df.append({'Algorithm': \"Logistic Regression\", 'Jaccard': jaccard_similarity_score(y_loan_test, predLogisticReg), \n                                      'F1-Score': f1_score(y_loan_test, predLogisticReg, average='weighted'), 'LogLoss': log_loss(y_loan_test, predLogisticRegProb)}, ignore_index = True)"
        },
        {
            "cell_type": "markdown",
            "metadata": {},
            "source": "## Display evaluation metrics for all models"
        },
        {
            "cell_type": "code",
            "execution_count": 55,
            "metadata": {},
            "outputs": [
                {
                    "data": {
                        "text/html": "<div>\n<style scoped>\n    .dataframe tbody tr th:only-of-type {\n        vertical-align: middle;\n    }\n\n    .dataframe tbody tr th {\n        vertical-align: top;\n    }\n\n    .dataframe thead th {\n        text-align: right;\n    }\n</style>\n<table border=\"1\" class=\"dataframe\">\n  <thead>\n    <tr style=\"text-align: right;\">\n      <th></th>\n      <th>Algorithm</th>\n      <th>Jaccard</th>\n      <th>F1-Score</th>\n      <th>LogLoss</th>\n    </tr>\n  </thead>\n  <tbody>\n    <tr>\n      <th>0</th>\n      <td>KNN</td>\n      <td>0.730769</td>\n      <td>0.689744</td>\n      <td>None</td>\n    </tr>\n    <tr>\n      <th>1</th>\n      <td>Decision Tree</td>\n      <td>0.750000</td>\n      <td>0.730542</td>\n      <td>None</td>\n    </tr>\n    <tr>\n      <th>2</th>\n      <td>SVM</td>\n      <td>0.711538</td>\n      <td>0.607606</td>\n      <td>None</td>\n    </tr>\n    <tr>\n      <th>3</th>\n      <td>Logistic Regression</td>\n      <td>0.750000</td>\n      <td>0.659925</td>\n      <td>0.486097</td>\n    </tr>\n  </tbody>\n</table>\n</div>",
                        "text/plain": "             Algorithm   Jaccard  F1-Score   LogLoss\n0                  KNN  0.730769  0.689744      None\n1        Decision Tree  0.750000  0.730542      None\n2                  SVM  0.711538  0.607606      None\n3  Logistic Regression  0.750000  0.659925  0.486097"
                    },
                    "execution_count": 55,
                    "metadata": {},
                    "output_type": "execute_result"
                }
            ],
            "source": "evaluation_df"
        },
        {
            "cell_type": "markdown",
            "metadata": {},
            "source": "## Findings"
        },
        {
            "cell_type": "markdown",
            "metadata": {},
            "source": "My recommendation is to utilize the decision tree model for this dataset since it has the highest accuracy on both F1-score and Jaccard index."
        }
    ],
    "metadata": {
        "kernelspec": {
            "display_name": "Python 3.6",
            "language": "python",
            "name": "python3"
        },
        "language_info": {
            "codemirror_mode": {
                "name": "ipython",
                "version": 3
            },
            "file_extension": ".py",
            "mimetype": "text/x-python",
            "name": "python",
            "nbconvert_exporter": "python",
            "pygments_lexer": "ipython3",
            "version": "3.6.9"
        }
    },
    "nbformat": 4,
    "nbformat_minor": 2
}